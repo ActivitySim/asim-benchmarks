{
 "cells": [
  {
   "cell_type": "code",
   "execution_count": null,
   "id": "86361789",
   "metadata": {},
   "outputs": [],
   "source": [
    "import numpy as np\n",
    "import pandas as pd\n",
    "from activitysim.benchmarking.reader import read_results"
   ]
  },
  {
   "cell_type": "code",
   "execution_count": null,
   "id": "91b0c030",
   "metadata": {},
   "outputs": [],
   "source": [
    "df = read_results(\"../results/CAMHPC01/8dc19241-env-c87ac846ee78e51351a06682de5adcb5.json\")"
   ]
  },
  {
   "cell_type": "code",
   "execution_count": null,
   "id": "4fc9c564",
   "metadata": {},
   "outputs": [],
   "source": [
    "df"
   ]
  },
  {
   "cell_type": "code",
   "execution_count": null,
   "id": "d4bfdcff",
   "metadata": {},
   "outputs": [],
   "source": [
    "np.log(df[['sandag2full', 'sandag3full']].div(df.sandag1full, axis=0)).plot.bar(figsize=(15,8))"
   ]
  }
 ],
 "metadata": {
  "kernelspec": {
   "display_name": "Python 3 (ipykernel)",
   "language": "python",
   "name": "python3"
  },
  "language_info": {
   "codemirror_mode": {
    "name": "ipython",
    "version": 3
   },
   "file_extension": ".py",
   "mimetype": "text/x-python",
   "name": "python",
   "nbconvert_exporter": "python",
   "pygments_lexer": "ipython3",
   "version": "3.9.7"
  },
  "toc": {
   "base_numbering": 1,
   "nav_menu": {},
   "number_sections": false,
   "sideBar": true,
   "skip_h1_title": false,
   "title_cell": "Table of Contents",
   "title_sidebar": "Contents",
   "toc_cell": false,
   "toc_position": {},
   "toc_section_display": true,
   "toc_window_display": false
  }
 },
 "nbformat": 4,
 "nbformat_minor": 5
}
